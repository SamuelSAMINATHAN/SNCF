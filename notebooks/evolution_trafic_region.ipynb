{
 "cells": [
  {
   "cell_type": "markdown",
   "id": "c8c0ba18",
   "metadata": {},
   "source": [
    "#  Analyse de l'Évolution du Trafic SNCF par Région\n",
    "\n",
    "## Objectifs\n",
    "1. Analyser les tendances temporelles du trafic voyageurs\n",
    "2. Évaluer l'impact COVID-19 et la reprise par région\n",
    "3. Identifier les régions les plus dynamiques\n",
    "4. Étudier les variations saisonnières\n",
    "\n",
    "## Table des matières\n",
    "1. [Configuration initiale](#1)\n",
    "2. [Préparation des données](#2)\n",
    "3. [Évolution globale du trafic](#3)\n",
    "4. [Analyse régionale](#4)\n",
    "5. [Impact COVID-19](#5)\n",
    "6. [Analyse de la reprise](#6)\n",
    "7. [Conclusions](#7)"
   ]
  },
  {
   "cell_type": "markdown",
   "id": "a8c28a0c",
   "metadata": {},
   "source": [
    "<a id='1'></a>\n",
    "## 1. Configuration initiale"
   ]
  },
  {
   "cell_type": "code",
   "execution_count": null,
   "id": "6403076e",
   "metadata": {},
   "outputs": [],
   "source": [
    "import pandas as pd\n",
    "import numpy as np\n",
    "import matplotlib.pyplot as plt\n",
    "import seaborn as sns\n",
    "from pathlib import Path\n",
    "\n",
    "# Configuration des visualisations\n",
    "%matplotlib inline\n",
    "plt.style.use('seaborn')\n",
    "plt.rcParams['figure.figsize'] = [12, 8]\n",
    "plt.rcParams['font.size'] = 12\n",
    "sns.set_palette('husl')\n",
    "\n",
    "# Chemins des fichiers\n",
    "DATA_PATH = Path('../data/processed/gares_avec_clusters.csv')"
   ]
  },
  {
   "cell_type": "markdown",
   "id": "a356aca1",
   "metadata": {},
   "source": [
    "<a id='2'></a>\n",
    "## 2. Préparation des données"
   ]
  },
  {
   "cell_type": "code",
   "execution_count": null,
   "id": "4c34ca4f",
   "metadata": {},
   "outputs": [],
   "source": [
    "# Chargement des données\n",
    "df = pd.read_csv(DATA_PATH)\n",
    "\n",
    "# Création des colonnes d'évolution\n",
    "df['evolution_2015_2019'] = (\n",
    "    (df['total_voyageurs_2019'] - df['total_voyageurs_2015']) \n",
    "    / df['total_voyageurs_2015'] * 100\n",
    ")\n",
    "\n",
    "df['evolution_2019_2020'] = (\n",
    "    (df['total_voyageurs_2020'] - df['total_voyageurs_2019']) \n",
    "    / df['total_voyageurs_2019'] * 100\n",
    ")\n",
    "\n",
    "df['evolution_2020_2023'] = (\n",
    "    (df['total_voyageurs_2023'] - df['total_voyageurs_2020']) \n",
    "    / df['total_voyageurs_2020'] * 100\n",
    ")\n",
    "\n",
    "print(\"Aperçu des données d'évolution :\")\n",
    "print(df[['nom_de_la_gare', 'evolution_2015_2019', 'evolution_2019_2020', 'evolution_2020_2023']].head())"
   ]
  },
  {
   "cell_type": "markdown",
   "id": "412a7985",
   "metadata": {},
   "source": [
    "<a id='3'></a>\n",
    "## 3. Évolution globale du trafic"
   ]
  },
  {
   "cell_type": "code",
   "execution_count": null,
   "id": "788ccbda",
   "metadata": {},
   "outputs": [],
   "source": [
    "# Calcul du trafic total par année\n",
    "yearly_total = pd.DataFrame({\n",
    "    'année': range(2015, 2024),\n",
    "    'total_voyageurs': [df[f'total_voyageurs_{year}'].sum() for year in range(2015, 2024)]\n",
    "})\n",
    "\n",
    "# Visualisation de l'évolution\n",
    "plt.figure(figsize=(12, 6))\n",
    "plt.plot(yearly_total['année'], yearly_total['total_voyageurs'] / 1e6, marker='o')\n",
    "plt.title('Évolution du trafic total des gares SNCF (2015-2023)')\n",
    "plt.xlabel('Année')\n",
    "plt.ylabel('Millions de voyageurs')\n",
    "plt.grid(True)\n",
    "\n",
    "# Ajout des annotations pour les événements importants\n",
    "plt.annotate('COVID-19', xy=(2020, yearly_total.loc[yearly_total['année']==2020, 'total_voyageurs'].values[0]/1e6),\n",
    "             xytext=(2020.2, yearly_total['total_voyageurs'].max()/1e6*0.8),\n",
    "             arrowprops=dict(facecolor='red', shrink=0.05))\n",
    "\n",
    "plt.show()"
   ]
  },
  {
   "cell_type": "markdown",
   "id": "60704e54",
   "metadata": {},
   "source": [
    "<a id='4'></a>\n",
    "## 4. Analyse régionale"
   ]
  },
  {
   "cell_type": "code",
   "execution_count": null,
   "id": "758dda27",
   "metadata": {},
   "outputs": [],
   "source": [
    "# Agrégation par région\n",
    "regional_evolution = df.groupby('region').agg({\n",
    "    'evolution_2015_2019': 'mean',\n",
    "    'evolution_2019_2020': 'mean',\n",
    "    'evolution_2020_2023': 'mean',\n",
    "    'total_voyageurs_2023': 'sum'\n",
    "}).round(2)\n",
    "\n",
    "# Visualisation des évolutions régionales\n",
    "plt.figure(figsize=(15, 8))\n",
    "sns.heatmap(regional_evolution[['evolution_2015_2019', 'evolution_2019_2020', 'evolution_2020_2023']],\n",
    "            annot=True, cmap='RdYlBu', center=0)\n",
    "plt.title('Évolution du trafic par région (%)')\n",
    "plt.tight_layout()\n",
    "plt.show()\n",
    "\n",
    "print(\"\\nClassement des régions par trafic 2023 :\")\n",
    "print(regional_evolution.sort_values('total_voyageurs_2023', ascending=False))"
   ]
  },
  {
   "cell_type": "markdown",
   "id": "26214c1a",
   "metadata": {},
   "source": [
    "<a id='5'></a>\n",
    "## 5. Impact COVID-19"
   ]
  },
  {
   "cell_type": "code",
   "execution_count": null,
   "id": "a342b1ef",
   "metadata": {},
   "outputs": [],
   "source": [
    "# Distribution de l'impact COVID par région\n",
    "plt.figure(figsize=(12, 6))\n",
    "sns.boxplot(data=df, x='region', y='evolution_2019_2020')\n",
    "plt.xticks(rotation=45, ha='right')\n",
    "plt.title('Distribution de l\\'impact COVID-19 par région')\n",
    "plt.ylabel('Évolution 2019-2020 (%)')\n",
    "plt.tight_layout()\n",
    "plt.show()\n",
    "\n",
    "# Top 10 des gares les plus impactées\n",
    "print(\"\\nTop 10 des gares les plus impactées par le COVID-19 :\")\n",
    "print(df.nsmallest(10, 'evolution_2019_2020')[['nom_de_la_gare', 'region', 'evolution_2019_2020']])"
   ]
  },
  {
   "cell_type": "markdown",
   "id": "49999319",
   "metadata": {},
   "source": [
    "<a id='6'></a>\n",
    "## 6. Analyse de la reprise"
   ]
  },
  {
   "cell_type": "code",
   "execution_count": null,
   "id": "9696fb5e",
   "metadata": {},
   "outputs": [],
   "source": [
    "# Calcul du taux de reprise (2023 vs 2019)\n",
    "df['taux_reprise'] = (df['total_voyageurs_2023'] / df['total_voyageurs_2019'] - 1) * 100\n",
    "\n",
    "# Visualisation de la reprise par région\n",
    "plt.figure(figsize=(12, 6))\n",
    "sns.barplot(data=df, x='region', y='taux_reprise', ci=95)\n",
    "plt.xticks(rotation=45, ha='right')\n",
    "plt.title('Taux de reprise par région (2023 vs 2019)')\n",
    "plt.ylabel('Taux de reprise (%)')\n",
    "plt.axhline(y=0, color='r', linestyle='--')\n",
    "plt.tight_layout()\n",
    "plt.show()\n",
    "\n",
    "# Top 10 des meilleures reprises\n",
    "print(\"\\nTop 10 des gares avec la meilleure reprise :\")\n",
    "print(df.nlargest(10, 'taux_reprise')[['nom_de_la_gare', 'region', 'taux_reprise']])"
   ]
  },
  {
   "cell_type": "code",
   "execution_count": 16,
   "id": "f7e380d2",
   "metadata": {},
   "outputs": [
    {
     "name": "stdout",
     "output_type": "stream",
     "text": [
      "Impact moyen de la crise COVID (2020) : -48.0%\n",
      "État de la reprise en 2023 : -6.1%\n",
      "\n",
      "Interprétation :\n",
      "- En 2020, le trafic a connu une baisse moyenne de 48.0% par rapport à la période pré-COVID.\n",
      "- En 2023, le trafic reste inférieur de 6.1% à la période pré-COVID.\n",
      "\n",
      "Sur les 10 zones analysées, 2 ont retrouvé ou dépassé leur niveau de trafic pré-COVID en 2023.\n"
     ]
    }
   ],
   "source": [
    "# Calculer les moyennes des variations\n",
    "baisse_moyenne_2020 = df_impact['variation_2020_%'].mean()\n",
    "variation_moyenne_2023 = df_impact['variation_2023_%'].mean()\n",
    "\n",
    "print(f\"Impact moyen de la crise COVID (2020) : {baisse_moyenne_2020:.1f}%\")\n",
    "print(f\"État de la reprise en 2023 : {variation_moyenne_2023:.1f}%\")\n",
    "print(\"\\nInterprétation :\")\n",
    "print(f\"- En 2020, le trafic a connu une baisse moyenne de {abs(baisse_moyenne_2020):.1f}% par rapport à la période pré-COVID.\")\n",
    "\n",
    "if variation_moyenne_2023 > 0:\n",
    "    print(f\"- En 2023, le trafic montre une reprise avec une hausse moyenne de {variation_moyenne_2023:.1f}% par rapport à la période pré-COVID.\")\n",
    "else:\n",
    "    print(f\"- En 2023, le trafic reste inférieur de {abs(variation_moyenne_2023):.1f}% à la période pré-COVID.\")\n",
    "\n",
    "# Compter le nombre de zones ayant retrouvé leur niveau pré-COVID\n",
    "zones_retablies = (df_impact['variation_2023_%'] >= 0).sum()\n",
    "print(f\"\\nSur les {len(df_impact)} zones analysées, {zones_retablies} ont retrouvé ou dépassé leur niveau de trafic pré-COVID en 2023.\")"
   ]
  }
 ],
 "metadata": {
  "kernelspec": {
   "display_name": "venv",
   "language": "python",
   "name": "python3"
  },
  "language_info": {
   "codemirror_mode": {
    "name": "ipython",
    "version": 3
   },
   "file_extension": ".py",
   "mimetype": "text/x-python",
   "name": "python",
   "nbconvert_exporter": "python",
   "pygments_lexer": "ipython3",
   "version": "3.11.12"
  }
 },
 "nbformat": 4,
 "nbformat_minor": 5
}
